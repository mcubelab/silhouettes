{
 "cells": [
  {
   "cell_type": "code",
   "execution_count": null,
   "metadata": {},
   "outputs": [],
   "source": [
    "from location import Location\n",
    "\n",
    "try:\n",
    "    from keras.models import Sequential\n",
    "    from keras.layers import *\n",
    "    from keras.models import model_from_json\n",
    "    from keras import optimizers\n",
    "    from keras.callbacks import ModelCheckpoint\n",
    "    import keras.losses\n",
    "    from keras.models import load_model\n",
    "    from keras.utils import to_categorical\n",
    "    from sklearn.model_selection import train_test_split\n",
    "    from keras import backend as K\n",
    "    from keras.applications.resnet50 import ResNet50\n",
    "    from keras.preprocessing import image\n",
    "    from keras.applications.resnet50 import preprocess_input, decode_predictions\n",
    "except Exception as e:\n",
    "    print \"Not importing keras\""
   ]
  },
  {
   "cell_type": "code",
   "execution_count": null,
   "metadata": {},
   "outputs": [],
   "source": [
    "loc = Location()\n",
    "\n",
    "name_id = 'flashlight_l=70_h=20_dx=10_dy=10_rot=0_debug'\n",
    "\n",
    "gs_id = 2\n",
    "model_path = '/home/mcube/weights_server_last/weights_type=all_08-23-2018_num=2000_gs_id=2_in=rgb_out=height_epoch=100_NN=basic_aug=5.hdf5'\n",
    "directory = '/media/mcube/data/shapes_data/object_exploration/'\n",
    "directory += name_id\n",
    "\n",
    "keras.losses.custom_loss = custom_loss\n",
    "model = load_model(model_path)\n",
    "\n",
    "x_off = 837.2\n",
    "y_off = 376\n",
    "z_off = 295\n",
    "\n",
    "touches = range(0, 17)\n",
    "pc1 = get_global_pointcloud(gs_id, directory, touches, global_pointcloud, model_path=None, model=None)\n",
    "\n",
    "touches = range(17, 34)\n",
    "pc2 = get_global_pointcloud(gs_id, directory, touches, global_pointcloud, model_path=None, model=None)\n",
    "\n",
    "touches = range(34, 48)\n",
    "pc3 = get_global_pointcloud(gs_id, directory, touches, global_pointcloud, model_path=None, model=None)\n",
    "\n"
   ]
  }
 ],
 "metadata": {
  "kernelspec": {
   "display_name": "Python 2",
   "language": "python",
   "name": "python2"
  }
 },
 "nbformat": 4,
 "nbformat_minor": 2
}
