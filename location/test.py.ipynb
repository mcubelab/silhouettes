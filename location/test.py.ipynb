{
 "cells": [
  {
   "cell_type": "code",
   "execution_count": null,
   "metadata": {},
   "outputs": [],
   "source": [
    "from location import Location"
   ]
  },
  {
   "cell_type": "code",
   "execution_count": null,
   "metadata": {},
   "outputs": [],
   "source": [
    "loc = Location()\n",
    "\n",
    "name_id = 'flashlight_l=70_h=20_dx=10_dy=10_rot=0_debug'\n",
    "\n",
    "gs_id = 2\n",
    "model_path = '/home/mcube/weights_server_last/weights_type=all_08-23-2018_num=2000_gs_id=2_in=rgb_out=height_epoch=100_NN=basic_aug=5.hdf5'\n",
    "directory = '/media/mcube/data/shapes_data/pointclouds/'\n",
    "\n",
    "x_off = 837.2\n",
    "y_off = 376\n",
    "z_off = 295\n",
    "\n",
    "global_pointcloud_1 = create_point_cloud (name_id = name_id, gs_id = gs_id, touch_list = range(it) + range(it+1,200), model_path = model_path,\n",
    "            is_save = False, is_visualize = True, is_half = False, threshold = 0.1)\n",
    "global_pointcloud_2 = create_point_cloud (name_id = name_id, gs_id = gs_id, touch_list = range(it,it+1), model_path = model_path,\n",
    "            is_save = False, is_visualize = True, is_half = False, threshold = 0.1, swap =[it_2])\n",
    "compute_stitch_error(global_pointcloud, global_pointcloud_1, global_pointcloud_2, threshold = 1, max_iteration = 2000)\n"
   ]
  }
 ],
 "metadata": {
  "kernelspec": {
   "display_name": "Python 2",
   "language": "python",
   "name": "python2"
  }
 },
 "nbformat": 4,
 "nbformat_minor": 2
}
